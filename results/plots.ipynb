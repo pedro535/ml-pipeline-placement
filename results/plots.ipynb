{
 "cells": [
  {
   "cell_type": "code",
   "execution_count": null,
   "metadata": {},
   "outputs": [],
   "source": [
    "import json\n",
    "import numpy as np\n",
    "import pandas as pd\n",
    "import plotly.express as px\n",
    "import plotly.graph_objects as go\n",
    "from analysis import *"
   ]
  },
  {
   "cell_type": "code",
   "execution_count": null,
   "metadata": {},
   "outputs": [],
   "source": [
    "# Random Random (different seeds)\n",
    "with open('output/random_random/0/pipelines.json') as f:\n",
    "    random_random_0 = json.load(f)\n",
    "with open('output/random_random/1/pipelines.json') as f:\n",
    "    random_random_1 = json.load(f)\n",
    "with open('output/random_random/2/pipelines.json') as f:\n",
    "    random_random_2 = json.load(f)\n",
    "with open('output/random_random/42/pipelines.json') as f:\n",
    "    random_random_3 = json.load(f)\n",
    "with open('output/random_random/1234/pipelines.json') as f:\n",
    "    random_random_4 = json.load(f)\n",
    "random_random = [random_random_0, random_random_1, random_random_2, random_random_3, random_random_4]\n",
    "\n",
    "\n",
    "# Fifo Random\n",
    "with open('output/fifo_random/0/pipelines.json') as f:\n",
    "    fifo_random_0 = json.load(f)\n",
    "with open('output/fifo_random/1/pipelines.json') as f:\n",
    "    fifo_random_1 = json.load(f)\n",
    "with open('output/fifo_random/2/pipelines.json') as f:\n",
    "    fifo_random_2 = json.load(f)\n",
    "with open('output/fifo_random/42/pipelines.json') as f:\n",
    "    fifo_random_3 = json.load(f)\n",
    "with open('output/fifo_random/1234/pipelines.json') as f:\n",
    "    fifo_random_4 = json.load(f)\n",
    "fifo_random = [fifo_random_0, fifo_random_1, fifo_random_2, fifo_random_3, fifo_random_4]\n",
    "\n",
    "# Fifo Round Robin\n",
    "with open('output/fifo_rr/pipelines.json') as f:\n",
    "    fifo_rr = json.load(f)\n",
    "\n",
    "\n",
    "# Kubernetes\n",
    "with open('output/kfp/run_1.json', 'r') as file:\n",
    "    kfp_data_1 = json.load(file)\n",
    "with open('output/kfp/run_2.json', 'r') as file:\n",
    "    kfp_data_2 = json.load(file)\n",
    "with open('output/kfp/run_3.json', 'r') as file:\n",
    "    kfp_data_3 = json.load(file)\n",
    "with open('output/kfp/run_4.json', 'r') as file:\n",
    "    kfp_data_4 = json.load(file)\n",
    "with open('output/kfp/run_5.json', 'r') as file:\n",
    "    kfp_data_5 = json.load(file)\n",
    "kubernetes = [kfp_get_runs(kfp_data_1), kfp_get_runs(kfp_data_2), kfp_get_runs(kfp_data_3), kfp_get_runs(kfp_data_4), kfp_get_runs(kfp_data_5)]\n",
    "    \n",
    "\n",
    "# Proposed\n",
    "with open('output/proposed/pipelines.json') as f:\n",
    "    proposed = json.load(f)"
   ]
  },
  {
   "cell_type": "markdown",
   "metadata": {},
   "source": [
    "### Total execution time"
   ]
  },
  {
   "cell_type": "code",
   "execution_count": null,
   "metadata": {},
   "outputs": [],
   "source": [
    "total_exec_times = {\n",
    "    \"random-random\": total_exec_time_multiple(random_random),\n",
    "    \"fifo-random\": total_exec_time_multiple(fifo_random),\n",
    "    \"fifo-RR\": total_exec_time(fifo_rr),\n",
    "    \"kubernetes-scheduler\": kfp_total_exec_time_multiple(kubernetes),\n",
    "    \"proposed\": total_exec_time(proposed)\n",
    "}\n",
    "reduction_percs = time_reduced_perc(total_exec_times, \"proposed\")\n",
    "reduction_ratios = time_reduced_ratio(total_exec_times, \"proposed\")\n",
    "\n",
    "print(total_exec_times)\n",
    "print(reduction_percs)\n",
    "print(reduction_ratios)"
   ]
  },
  {
   "cell_type": "code",
   "execution_count": null,
   "metadata": {},
   "outputs": [],
   "source": [
    "fig = px.bar(\n",
    "    x=total_exec_times.keys(),\n",
    "    y=total_exec_times.values(),\n",
    "    width=800,\n",
    "    height=600\n",
    ")\n",
    "\n",
    "fig.update_traces(\n",
    "    marker_color=[\"#636EFA\", \"#636EFA\", \"#636EFA\", \"#636EFA\", \"#00CC96\"],\n",
    "    text=list(total_exec_times.values()),\n",
    "    textposition='outside',\n",
    "    textfont_size=15\n",
    ")\n",
    "\n",
    "fig.update_layout(\n",
    "    title=\"Total Execution Time of Different Strategies\",\n",
    "    title_x=0.5,\n",
    "    xaxis_title='Strategy',\n",
    "    yaxis_title='Total Execution Time (s)'\n",
    ")\n",
    "\n",
    "fig.show()\n",
    "fig.write_image(\"plots/total_exec_time.pdf\", engine=\"kaleido\")"
   ]
  },
  {
   "cell_type": "markdown",
   "metadata": {},
   "source": [
    "### Pipeline execution time"
   ]
  },
  {
   "cell_type": "code",
   "execution_count": null,
   "metadata": {},
   "outputs": [],
   "source": [
    "exec_times = {\n",
    "    \"random-random\": pipeline_exec_times_multiple(random_random),\n",
    "    \"fifo-random\": pipeline_exec_times_multiple(fifo_random),\n",
    "    \"fifo-RR\": pipeline_exec_times(fifo_rr),\n",
    "    \"kubernetes\": kfp_pipeline_exec_times_multiple(kubernetes),\n",
    "    \"proposed\": pipeline_exec_times(proposed)\n",
    "}"
   ]
  },
  {
   "cell_type": "code",
   "execution_count": null,
   "metadata": {},
   "outputs": [],
   "source": [
    "records = []\n",
    "for strategy, pipelines in exec_times.items():\n",
    "    for pipeline, value in pipelines.items():\n",
    "        records.append({\n",
    "            \"strategy\": strategy,\n",
    "            \"pipeline\": pipeline,\n",
    "            \"execution_time\": value\n",
    "        })\n",
    "\n",
    "df = pd.DataFrame(records)\n",
    "\n",
    "# Grouped bar chart grouped by Strategy\n",
    "fig = px.bar(\n",
    "    df,\n",
    "    x=\"pipeline\",\n",
    "    y=\"execution_time\",\n",
    "    color=\"strategy\",\n",
    "    barmode=\"group\",\n",
    "    height=600,\n",
    "    width=1600\n",
    ")\n",
    "\n",
    "fig.update_layout(\n",
    "    title=\"Execution Time per Strategy for Each Pipeline\",\n",
    "    title_x=0.5,\n",
    "    xaxis_title=\"Strategy\",\n",
    "    yaxis_title=\"Execution Time (s)\",\n",
    "    bargap=0.4\n",
    ")\n",
    "\n",
    "fig.show()\n",
    "fig.write_image(\"plots/pipeline_exec_time.pdf\", engine=\"kaleido\")"
   ]
  },
  {
   "cell_type": "markdown",
   "metadata": {},
   "source": [
    "### Average waiting time"
   ]
  },
  {
   "cell_type": "code",
   "execution_count": null,
   "metadata": {},
   "outputs": [],
   "source": [
    "avg_wait_times = {\n",
    "    \"random-random\": pipeline_wait_times_avg(experiments=random_random),\n",
    "    \"fifo-random\": pipeline_wait_times_avg(experiments=fifo_random),\n",
    "    \"fifo-RR\": pipeline_wait_times_avg(pipelines=fifo_rr),\n",
    "    \"proposed\": pipeline_wait_times_avg(pipelines=proposed)\n",
    "}\n",
    "reduction_percs = time_reduced_perc(avg_wait_times, \"proposed\")\n",
    "reduction_ratios = time_reduced_ratio(avg_wait_times, \"proposed\")\n",
    "\n",
    "print(avg_wait_times)\n",
    "print(reduction_percs)\n",
    "print(reduction_ratios)"
   ]
  },
  {
   "cell_type": "code",
   "execution_count": null,
   "metadata": {},
   "outputs": [],
   "source": [
    "fig = px.bar(\n",
    "    x=avg_wait_times.keys(),\n",
    "    y=avg_wait_times.values(),\n",
    "    width=800,\n",
    "    height=600\n",
    ")\n",
    "\n",
    "fig.update_traces(\n",
    "    marker_color=[\"#636EFA\", \"#636EFA\", \"#636EFA\", \"#00CC96\"],\n",
    "    text=list(avg_wait_times.values()),\n",
    "    textposition='outside',\n",
    "    textfont_size=15\n",
    ")\n",
    "\n",
    "fig.update_layout(\n",
    "    title=\"Average Wait Time of Different Strategies\",\n",
    "    title_x=0.5,\n",
    "    xaxis_title='Strategy',\n",
    "    yaxis_title='Average Wait Time (s)'\n",
    ")\n",
    "\n",
    "fig.show()\n",
    "fig.write_image(\"plots/avg_wait_time.pdf\", engine=\"kaleido\")"
   ]
  },
  {
   "cell_type": "markdown",
   "metadata": {},
   "source": [
    "### Pipeline waiting time"
   ]
  },
  {
   "cell_type": "code",
   "execution_count": null,
   "metadata": {},
   "outputs": [],
   "source": [
    "wait_times = {\n",
    "    \"random-random\": pipeline_wait_times_multiple(experiments=random_random),\n",
    "    \"fifo-random\": pipeline_wait_times_multiple(experiments=fifo_random),\n",
    "    \"fifo-RR\": pipeline_wait_times(pipelines=fifo_rr),\n",
    "    \"proposed\": pipeline_wait_times(pipelines=proposed)\n",
    "}"
   ]
  },
  {
   "cell_type": "code",
   "execution_count": null,
   "metadata": {},
   "outputs": [],
   "source": [
    "records = []\n",
    "for strategy, pipelines in wait_times.items():\n",
    "    for pipeline, value in pipelines.items():\n",
    "        records.append({\n",
    "            \"strategy\": strategy,\n",
    "            \"pipeline\": pipeline,\n",
    "            \"waiting_time\": value\n",
    "        })\n",
    "\n",
    "df = pd.DataFrame(records)\n",
    "\n",
    "# Grouped bar chart grouped by Strategy\n",
    "fig = px.bar(\n",
    "    df,\n",
    "    x=\"pipeline\",\n",
    "    y=\"waiting_time\",\n",
    "    color=\"strategy\",\n",
    "    barmode=\"group\",\n",
    "    height=600,\n",
    "    width=1600\n",
    ")\n",
    "\n",
    "fig.update_layout(\n",
    "    title=\"Waiting Time per Strategy for Each Pipeline\",\n",
    "    title_x=0.5,\n",
    "    xaxis_title=\"Strategy\",\n",
    "    yaxis_title=\"Waiting Time (s)\",\n",
    "    bargap=0.4\n",
    ")\n",
    "\n",
    "fig.show()\n",
    "fig.write_image(\"plots/pipeline_wait_time.pdf\", engine=\"kaleido\")"
   ]
  },
  {
   "cell_type": "markdown",
   "metadata": {},
   "source": [
    "### Running and waiting time through time"
   ]
  },
  {
   "cell_type": "code",
   "execution_count": null,
   "metadata": {},
   "outputs": [],
   "source": [
    "def plot_n_pipelines(pipeline_numbers, time_windows, title, filename):\n",
    "    fig = go.Figure()\n",
    "\n",
    "    fig.add_trace(go.Scatter(\n",
    "        x=pipeline_numbers[\"elapsed_time\"],\n",
    "        y=pipeline_numbers[\"running_pipelines\"],\n",
    "        mode='lines',\n",
    "        name='Running',\n",
    "        fill='tozeroy',\n",
    "        line=dict(color='blue')\n",
    "    ))\n",
    "\n",
    "    fig.add_trace(go.Scatter(\n",
    "        x=pipeline_numbers[\"elapsed_time\"],\n",
    "        y=pipeline_numbers[\"waiting_pipelines\"],\n",
    "        mode='lines',\n",
    "        name='Waiting',\n",
    "        fill='tozeroy',\n",
    "        line=dict(color='orange')\n",
    "    ))\n",
    "\n",
    "    for time in time_windows:\n",
    "        fig.add_vline(\n",
    "            x=time,\n",
    "            line=dict(color=\"green\", dash=\"dash\"),\n",
    "            opacity=1,\n",
    "        )\n",
    "\n",
    "    fig.update_layout(\n",
    "        title=title,\n",
    "        title_x=0.5,\n",
    "        xaxis_title=\"Elapsed Time (s)\",\n",
    "        yaxis_title=\"Number of Pipelines\",\n",
    "        legend_title=\"Pipeline State\",\n",
    "        width=1000,\n",
    "        height=600,\n",
    "        yaxis=dict(\n",
    "            dtick=1,\n",
    "        ),\n",
    "    )\n",
    "\n",
    "    fig.show()\n",
    "    fig.write_image(f\"plots/{filename}.pdf\", engine=\"kaleido\")"
   ]
  },
  {
   "cell_type": "markdown",
   "metadata": {},
   "source": [
    "#### Proposed"
   ]
  },
  {
   "cell_type": "code",
   "execution_count": null,
   "metadata": {},
   "outputs": [],
   "source": [
    "pipeline_numbers = pd.read_csv(\"output/proposed/n_pipelines_m.csv\")\n",
    "\n",
    "# Add elapsed time column\n",
    "start_timestamp = min(pipeline_numbers[\"timestamp\"])\n",
    "pipeline_numbers[\"elapsed_time\"] = [int(t-start_timestamp) for t in pipeline_numbers[\"timestamp\"]]\n",
    "\n",
    "# Separate new time windows and pipeline updates\n",
    "time_windows = pipeline_numbers[pipeline_numbers[\"type\"] == \"new_window\"][\"elapsed_time\"]\n",
    "pipeline_numbers = pipeline_numbers[pipeline_numbers[\"type\"] == \"update\"]\n",
    "\n",
    "plot_n_pipelines(\n",
    "    pipeline_numbers,\n",
    "    time_windows,\n",
    "    title=\"Number of Pipelines Over Time (Proposed Strategy)\",\n",
    "    filename=\"n_pipelines_proposed\"\n",
    ")"
   ]
  },
  {
   "cell_type": "markdown",
   "metadata": {},
   "source": [
    "#### Fifo-rr"
   ]
  },
  {
   "cell_type": "code",
   "execution_count": null,
   "metadata": {},
   "outputs": [],
   "source": [
    "pipeline_numbers = pd.read_csv(\"output/fifo_rr/n_pipelines_m.csv\")\n",
    "\n",
    "# Add elapsed time column\n",
    "start_timestamp = min(pipeline_numbers[\"timestamp\"])\n",
    "pipeline_numbers[\"elapsed_time\"] = [int(t-start_timestamp) for t in pipeline_numbers[\"timestamp\"]]\n",
    "\n",
    "# Separate new time windows and pipeline updates\n",
    "time_windows = pipeline_numbers[pipeline_numbers[\"type\"] == \"new_window\"][\"elapsed_time\"]\n",
    "pipeline_numbers = pipeline_numbers[pipeline_numbers[\"type\"] == \"update\"]\n",
    "\n",
    "plot_n_pipelines(\n",
    "    pipeline_numbers,\n",
    "    time_windows,\n",
    "    title=\"Number of Pipelines Over Time (FIFO Round-Robin Strategy)\",\n",
    "    filename=\"n_pipelines_fifo_rr\"\n",
    ")"
   ]
  },
  {
   "cell_type": "markdown",
   "metadata": {},
   "source": [
    "#### Fifo-random"
   ]
  },
  {
   "cell_type": "code",
   "execution_count": null,
   "metadata": {},
   "outputs": [],
   "source": [
    "pipeline_numbers = pd.read_csv(\"output/fifo_random/42/n_pipelines_m.csv\")\n",
    "\n",
    "# Add elapsed time column\n",
    "start_timestamp = min(pipeline_numbers[\"timestamp\"])\n",
    "pipeline_numbers[\"elapsed_time\"] = [int(t-start_timestamp) for t in pipeline_numbers[\"timestamp\"]]\n",
    "\n",
    "# Separate new time windows and pipeline updates\n",
    "time_windows = pipeline_numbers[pipeline_numbers[\"type\"] == \"new_window\"][\"elapsed_time\"]\n",
    "pipeline_numbers = pipeline_numbers[pipeline_numbers[\"type\"] == \"update\"]\n",
    "\n",
    "plot_n_pipelines(\n",
    "    pipeline_numbers,\n",
    "    time_windows,\n",
    "    title=\"Number of Pipelines Over Time (FIFO Random Strategy)\",\n",
    "    filename=\"n_pipelines_fifo_random\"\n",
    ")"
   ]
  },
  {
   "cell_type": "markdown",
   "metadata": {},
   "source": [
    "#### Random-random"
   ]
  },
  {
   "cell_type": "code",
   "execution_count": null,
   "metadata": {},
   "outputs": [],
   "source": [
    "pipeline_numbers = pd.read_csv(\"output/random_random/42/n_pipelines_m.csv\")\n",
    "\n",
    "# Add elapsed time column\n",
    "start_timestamp = min(pipeline_numbers[\"timestamp\"])\n",
    "pipeline_numbers[\"elapsed_time\"] = [int(t-start_timestamp) for t in pipeline_numbers[\"timestamp\"]]\n",
    "\n",
    "# Separate new time windows and pipeline updates\n",
    "time_windows = pipeline_numbers[pipeline_numbers[\"type\"] == \"new_window\"][\"elapsed_time\"]\n",
    "pipeline_numbers = pipeline_numbers[pipeline_numbers[\"type\"] == \"update\"]\n",
    "\n",
    "plot_n_pipelines(\n",
    "    pipeline_numbers,\n",
    "    time_windows,\n",
    "    title=\"Number of Pipelines Over Time (Random-Random Strategy)\",\n",
    "    filename=\"n_pipelines_random_random\"\n",
    ")"
   ]
  }
 ],
 "metadata": {
  "kernelspec": {
   "display_name": "myenv",
   "language": "python",
   "name": "python3"
  },
  "language_info": {
   "codemirror_mode": {
    "name": "ipython",
    "version": 3
   },
   "file_extension": ".py",
   "mimetype": "text/x-python",
   "name": "python",
   "nbconvert_exporter": "python",
   "pygments_lexer": "ipython3",
   "version": "3.12.9"
  }
 },
 "nbformat": 4,
 "nbformat_minor": 2
}
