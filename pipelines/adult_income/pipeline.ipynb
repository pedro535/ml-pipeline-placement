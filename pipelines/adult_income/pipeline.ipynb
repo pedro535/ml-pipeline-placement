{
 "cells": [
  {
   "cell_type": "markdown",
   "metadata": {},
   "source": [
    "Models: LR, DT, and RF\n",
    "\n",
    "Source: https://www.kaggle.com/code/ayaelsaied/adult-income-88-using-plotly/notebook#Preprocessing"
   ]
  },
  {
   "cell_type": "code",
   "execution_count": 1,
   "metadata": {},
   "outputs": [],
   "source": [
    "import numpy as np\n",
    "import pandas as pd\n",
    "import matplotlib.pyplot as plt\n",
    "from sklearn.model_selection import train_test_split\n",
    "from sklearn.preprocessing import LabelEncoder, StandardScaler\n",
    "from imblearn.over_sampling import SMOTE"
   ]
  },
  {
   "cell_type": "markdown",
   "metadata": {},
   "source": [
    "### Data preprocessing"
   ]
  },
  {
   "cell_type": "code",
   "execution_count": 2,
   "metadata": {},
   "outputs": [],
   "source": [
    "df = pd.read_csv(\"../../data/adult_income/adult.csv\")"
   ]
  },
  {
   "cell_type": "code",
   "execution_count": 3,
   "metadata": {},
   "outputs": [
    {
     "name": "stdout",
     "output_type": "stream",
     "text": [
      "Columns with question marks: ['workclass', 'occupation', 'native-country']\n"
     ]
    }
   ],
   "source": [
    "# Handle missing values\n",
    "columns_with_question_marks = []\n",
    "for column in df.columns:\n",
    "    if df[column].isin(['?']).any():\n",
    "        columns_with_question_marks.append(column)\n",
    "\n",
    "print(\"Columns with question marks:\", columns_with_question_marks)\n",
    "df[columns_with_question_marks] = df[columns_with_question_marks].replace('?', np.nan)"
   ]
  },
  {
   "cell_type": "code",
   "execution_count": 4,
   "metadata": {},
   "outputs": [
    {
     "name": "stdout",
     "output_type": "stream",
     "text": [
      "shape of data before drop duplicate (48842, 15)\n",
      "shape of data after drop duplicate (48790, 15)\n"
     ]
    }
   ],
   "source": [
    "# Remove duplicates\n",
    "print('shape of data before drop duplicate', df.shape)\n",
    "duplicates = df[df.duplicated()]\n",
    "df = df.drop_duplicates()\n",
    "print('shape of data after drop duplicate', df.shape)"
   ]
  },
  {
   "cell_type": "code",
   "execution_count": 5,
   "metadata": {},
   "outputs": [],
   "source": [
    "# Remove outliers\n",
    "def outliers_handler(df,col):\n",
    "    q1 = df[col].quantile(0.25)\n",
    "    q3 = df[col].quantile(0.75)\n",
    "    iqr = q3 - q1\n",
    "    lower_limit = q1 - 1.5 * iqr\n",
    "    upper_limit = q3 + 1.5 * iqr\n",
    "    df[col] = df[col].clip(lower=lower_limit, upper=upper_limit)  \n",
    "    return df\n",
    "\n",
    "numeric_cols = df.select_dtypes(include=['float64', 'int64']).columns\n",
    "for i in numeric_cols:\n",
    "    df = outliers_handler(df, i)"
   ]
  },
  {
   "cell_type": "code",
   "execution_count": 6,
   "metadata": {},
   "outputs": [],
   "source": [
    "# Encoding catagorical columns\n",
    "\n",
    "workclass_mapping = {\n",
    "    'Private': 'Private',\n",
    "    'Self-emp-not-inc': 'Self-Employed',\n",
    "    'Local-gov': 'Government',\n",
    "    'State-gov': 'Government',\n",
    "    'Self-emp-inc': 'Self-Employed',\n",
    "    'Federal-gov': 'Government',\n",
    "    'Without-pay': 'Other',\n",
    "    'Never-worked': 'Other'\n",
    "}\n",
    "df['workclass'] = df['workclass'].map(workclass_mapping)\n",
    "\n",
    "le = LabelEncoder()\n",
    "df['workclass'] = le.fit_transform(df['workclass'])"
   ]
  },
  {
   "cell_type": "code",
   "execution_count": 7,
   "metadata": {},
   "outputs": [],
   "source": [
    "education_mapping = {\n",
    "    'HS-grad': 'learning',\n",
    "    'Some-college': 'learning',\n",
    "    'Bachelors ': 'graduate',\n",
    "    'Masters': 'graduate',\n",
    "    'Assoc-voc': 'Assoc',\n",
    "    '11th': 'child',\n",
    "    'Assoc-acdm': 'Assoc',\n",
    "    '10th': 'child',\n",
    "    '7th-8th': 'child',\n",
    "    'Prof-school': 'graduate',\n",
    "    '9th': 'child',\n",
    "    '12th': 'child',\n",
    "    'Doctorate':'gruduate',\n",
    "    '5th-6th ': 'child',\n",
    "    '1st-4th  ': 'child',\n",
    "    'Preschool': 'child'\n",
    "}\n",
    "df['education'] = df['education'].map(education_mapping)\n",
    "df['education'] = le.fit_transform(df['education'])"
   ]
  },
  {
   "cell_type": "code",
   "execution_count": 8,
   "metadata": {},
   "outputs": [],
   "source": [
    "marital_status_mapping = {\n",
    "    'Married-civ-spouse': 'Married',\n",
    "    'Never-married': 'single',\n",
    "    'Divorced': 'single',\n",
    "    'Separated': 'single',\n",
    "    'Widowed': 'single',\n",
    "    'Married-spouse-absent': 'Married',\n",
    "    'Married-AF-spouse': 'Married',\n",
    "}\n",
    "df['marital-status'] = df['marital-status'].map(marital_status_mapping)\n",
    "df['marital-status'] = le.fit_transform(df['marital-status'])"
   ]
  },
  {
   "cell_type": "code",
   "execution_count": 9,
   "metadata": {},
   "outputs": [],
   "source": [
    "occupation_mapping = {\n",
    "    'Prof-specialty': 'Professional and Executive',\n",
    "    'Craft-repair': 'Labor and Manufacturing',\n",
    "    'Exec-managerial ': 'Professional and Executive',\n",
    "    'Adm-clerical': 'Professional and Executive',\n",
    "    'Sales': 'Sales and Services',\n",
    "    'Other-service': 'Sales and Services',\n",
    "    'Machine-op-inspct': 'Labor and Manufacturing',\n",
    "    'Transport-moving': 'Labor and Manufacturing',\n",
    "    'Handlers-cleaners': 'Labor and Manufacturing',\n",
    "    'Farming-fishing ': 'Labor and Manufacturing',\n",
    "    'Tech-suppor': 'Sales and Services',\n",
    "    'Protective-serv': 'Sales and Services',\n",
    "    'Priv-house-serv':'Sales and Services',\n",
    "    'Armed-Forces ': 'Sales and Services'\n",
    "}\n",
    "df['occupation'] = df['occupation'].map(occupation_mapping)\n",
    "df['occupation']=le.fit_transform(df['occupation'])"
   ]
  },
  {
   "cell_type": "code",
   "execution_count": 10,
   "metadata": {},
   "outputs": [],
   "source": [
    "relationship_mapping = {\n",
    "    'Husband': 'spouse',\n",
    "    'Not-in-family': 'Others:',\n",
    "    'Own-child': 'Immediate Family',\n",
    "    'Unmarried': 'Others:',\n",
    "    'Wife': 'spouse',\n",
    "    'Other-relative': 'Immediate Family',\n",
    "}\n",
    "df['relationship'] = df['relationship'].map(relationship_mapping)\n",
    "df['relationship'] = le.fit_transform(df['relationship'])"
   ]
  },
  {
   "cell_type": "code",
   "execution_count": 11,
   "metadata": {},
   "outputs": [],
   "source": [
    "df['race'] = df['race'].map(lambda x: 'White' if x == 'White' else 'Other')\n",
    "df['race'] = le.fit_transform(df['race'])"
   ]
  },
  {
   "cell_type": "code",
   "execution_count": 12,
   "metadata": {},
   "outputs": [],
   "source": [
    "df['gender'] = le.fit_transform(df['gender'])"
   ]
  },
  {
   "cell_type": "code",
   "execution_count": 13,
   "metadata": {},
   "outputs": [],
   "source": [
    "# Combine all categories except 'United-States'\n",
    "df['native-country'] = df['native-country'].map(lambda x: 'United-States' if x == 'United-States' else 'Other')\n",
    "df['native-country'] = le.fit_transform(df['native-country'])"
   ]
  },
  {
   "cell_type": "code",
   "execution_count": 14,
   "metadata": {},
   "outputs": [],
   "source": [
    "# income #0<=50 #1>50\n",
    "df['income'] = le.fit_transform(df['income'])"
   ]
  },
  {
   "cell_type": "code",
   "execution_count": 15,
   "metadata": {},
   "outputs": [],
   "source": [
    "# Feature selection\n",
    "df.drop(['capital-gain','capital-loss'], axis=1, inplace=True)"
   ]
  },
  {
   "cell_type": "code",
   "execution_count": 16,
   "metadata": {},
   "outputs": [],
   "source": [
    "x = df.drop(columns=['income'])  \n",
    "y = df['income']\n",
    "\n",
    "# Balance data\n",
    "resampler = SMOTE()\n",
    "x, y = resampler.fit_resample(x, y)\n",
    "\n",
    "# Split data\n",
    "x_train, x_test, y_train, y_test = train_test_split(x, y, test_size=0.2, random_state=42)\n",
    "\n",
    "# Scaling\n",
    "scaler = StandardScaler()\n",
    "x_train = scaler.fit_transform(x_train)\n",
    "x_test = scaler.transform(x_test)"
   ]
  },
  {
   "cell_type": "markdown",
   "metadata": {},
   "source": [
    "### Models training"
   ]
  },
  {
   "cell_type": "code",
   "execution_count": null,
   "metadata": {},
   "outputs": [],
   "source": [
    "from sklearn.metrics import precision_score, accuracy_score, recall_score, roc_auc_score\n",
    "from sklearn.linear_model import LogisticRegression\n",
    "from sklearn.tree import DecisionTreeClassifier\n",
    "from sklearn.ensemble import RandomForestClassifier"
   ]
  },
  {
   "cell_type": "code",
   "execution_count": 24,
   "metadata": {},
   "outputs": [
    {
     "name": "stdout",
     "output_type": "stream",
     "text": [
      "Accuracy: 0.8374427378065211\n"
     ]
    }
   ],
   "source": [
    "# Logistic Regression\n",
    "model = LogisticRegression(\n",
    "    C=0.1,\n",
    "    solver=\"liblinear\",\n",
    "    max_iter=100,\n",
    "    random_state=42\n",
    ")\n",
    "model.fit(x_train, y_train)\n",
    "\n",
    "y_pred = model.predict(x_test)\n",
    "accuracy = accuracy_score(y_test, y_pred)\n",
    "print(\"Accuracy:\", accuracy)"
   ]
  },
  {
   "cell_type": "code",
   "execution_count": 31,
   "metadata": {},
   "outputs": [
    {
     "name": "stdout",
     "output_type": "stream",
     "text": [
      "Accuracy: 0.8706548100242523\n"
     ]
    }
   ],
   "source": [
    "# Decision Tree\n",
    "model = DecisionTreeClassifier(\n",
    "    max_depth=10,\n",
    "    min_samples_split=10,\n",
    "    min_samples_leaf=4,\n",
    "    criterion=\"entropy\",\n",
    "    ccp_alpha=0.0,\n",
    "    random_state=42\n",
    ")\n",
    "model.fit(x_train, y_train)\n",
    "\n",
    "y_pred = model.predict(x_test)\n",
    "accuracy = accuracy_score(y_test, y_pred)\n",
    "print(\"Accuracy:\", accuracy)\n"
   ]
  },
  {
   "cell_type": "code",
   "execution_count": 33,
   "metadata": {},
   "outputs": [
    {
     "name": "stdout",
     "output_type": "stream",
     "text": [
      "Accuracy: 0.8823093505793587\n"
     ]
    }
   ],
   "source": [
    "# Random Forest\n",
    "model = RandomForestClassifier(\n",
    "    n_estimators=150,\n",
    "    max_depth=20,\n",
    "    min_samples_split=5,\n",
    "    min_samples_leaf=3,\n",
    "    criterion=\"entropy\",\n",
    "    max_features=\"sqrt\",\n",
    "    random_state=42\n",
    ")\n",
    "model.fit(x_train, y_train)\n",
    "\n",
    "y_pred = model.predict(x_test)\n",
    "accuracy = accuracy_score(y_test, y_pred)\n",
    "print(\"Accuracy:\", accuracy)"
   ]
  },
  {
   "cell_type": "markdown",
   "metadata": {},
   "source": [
    "### Models evaluation"
   ]
  },
  {
   "cell_type": "code",
   "execution_count": 34,
   "metadata": {},
   "outputs": [
    {
     "name": "stdout",
     "output_type": "stream",
     "text": [
      "Accuracy: 0.8823093505793587\n",
      "Precision: 0.8938955491249828\n",
      "Recall: 0.8691050375133976\n",
      "ROC AUC: 0.882384497076482\n"
     ]
    }
   ],
   "source": [
    "# Evaluation\n",
    "y_pred = model.predict(x_test)\n",
    "\n",
    "acc = accuracy_score(y_test, y_pred)\n",
    "print(\"Accuracy:\", acc)\n",
    "\n",
    "precision = precision_score(y_test, y_pred)\n",
    "print(\"Precision:\", precision)\n",
    "\n",
    "recall = recall_score(y_test, y_pred)\n",
    "print(\"Recall:\", recall)\n",
    "\n",
    "roc_auc = roc_auc_score(y_test, y_pred)\n",
    "print(\"ROC AUC:\", roc_auc)"
   ]
  }
 ],
 "metadata": {
  "kernelspec": {
   "display_name": "main",
   "language": "python",
   "name": "python3"
  },
  "language_info": {
   "codemirror_mode": {
    "name": "ipython",
    "version": 3
   },
   "file_extension": ".py",
   "mimetype": "text/x-python",
   "name": "python",
   "nbconvert_exporter": "python",
   "pygments_lexer": "ipython3",
   "version": "3.12.2"
  }
 },
 "nbformat": 4,
 "nbformat_minor": 2
}
