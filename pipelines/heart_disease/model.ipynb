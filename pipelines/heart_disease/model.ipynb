{
 "cells": [
  {
   "cell_type": "code",
   "execution_count": null,
   "metadata": {},
   "outputs": [],
   "source": [
    "import pandas as pd\n",
    "import numpy as np\n",
    "import matplotlib.pyplot as plt\n",
    "import seaborn as sns\n",
    "import warnings\n",
    "warnings.filterwarnings('ignore')"
   ]
  },
  {
   "cell_type": "code",
   "execution_count": null,
   "metadata": {},
   "outputs": [],
   "source": [
    "data = pd.read_csv('../../data/heart_disease/heart.csv')"
   ]
  },
  {
   "cell_type": "markdown",
   "metadata": {},
   "source": [
    "### Data preprocessing"
   ]
  },
  {
   "cell_type": "code",
   "execution_count": null,
   "metadata": {},
   "outputs": [],
   "source": [
    "from sklearn.preprocessing import MinMaxScaler,StandardScaler\n",
    "from sklearn.preprocessing import LabelEncoder\n",
    "from sklearn.feature_selection import SelectKBest\n",
    "from sklearn.feature_selection import chi2"
   ]
  },
  {
   "cell_type": "code",
   "execution_count": null,
   "metadata": {},
   "outputs": [],
   "source": [
    "# Label Encoding\n",
    "le = LabelEncoder()\n",
    "df1 = data.copy(deep = True)\n",
    "\n",
    "df1['Sex'] = le.fit_transform(df1['Sex'])\n",
    "df1['ChestPainType'] = le.fit_transform(df1['ChestPainType'])\n",
    "df1['RestingECG'] = le.fit_transform(df1['RestingECG'])\n",
    "df1['ExerciseAngina'] = le.fit_transform(df1['ExerciseAngina'])\n",
    "df1['ST_Slope'] = le.fit_transform(df1['ST_Slope'])"
   ]
  },
  {
   "cell_type": "code",
   "execution_count": null,
   "metadata": {},
   "outputs": [],
   "source": [
    "# Normalization and Standardization\n",
    "mms = MinMaxScaler()\n",
    "ss = StandardScaler() \n",
    "\n",
    "df1['Oldpeak'] = mms.fit_transform(df1[['Oldpeak']])\n",
    "df1['Age'] = ss.fit_transform(df1[['Age']])\n",
    "df1['RestingBP'] = ss.fit_transform(df1[['RestingBP']])\n",
    "df1['Cholesterol'] = ss.fit_transform(df1[['Cholesterol']])\n",
    "df1['MaxHR'] = ss.fit_transform(df1[['MaxHR']])"
   ]
  },
  {
   "cell_type": "code",
   "execution_count": null,
   "metadata": {},
   "outputs": [],
   "source": [
    "features = df1.loc[:,categorical_features[:-1]]\n",
    "target = df1.loc[:,categorical_features[-1]]\n",
    "\n",
    "best_features = SelectKBest(score_func = chi2,k = 'all')\n",
    "fit = best_features.fit(features,target)\n",
    "\n",
    "featureScores = pd.DataFrame(data = fit.scores_,index = list(features.columns),columns = ['Chi Squared Score']) \n",
    "\n",
    "plt.subplots(figsize = (5,5))\n",
    "sns.heatmap(featureScores.sort_values(ascending = False,by = 'Chi Squared Score'),annot = True,cmap = colors,linewidths = 0.4,linecolor = 'black',fmt = '.2f');\n",
    "plt.title('Selection of Categorical Features');"
   ]
  }
 ],
 "metadata": {
  "kernelspec": {
   "display_name": "main",
   "language": "python",
   "name": "python3"
  },
  "language_info": {
   "codemirror_mode": {
    "name": "ipython",
    "version": 3
   },
   "file_extension": ".py",
   "mimetype": "text/x-python",
   "name": "python",
   "nbconvert_exporter": "python",
   "pygments_lexer": "ipython3",
   "version": "3.12.2"
  }
 },
 "nbformat": 4,
 "nbformat_minor": 2
}
